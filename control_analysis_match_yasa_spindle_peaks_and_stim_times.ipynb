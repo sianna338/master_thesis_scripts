{
 "cells": [
  {
   "cell_type": "code",
   "execution_count": 1,
   "metadata": {},
   "outputs": [],
   "source": [
    "import yasa\n",
    "import mne\n",
    "import matplotlib.pyplot as plt\n",
    "import numpy as np\n",
    "import statistics\n",
    "import pybv\n",
    "from scipy import signal\n",
    "from scipy import io\n",
    "import pymatreader\n",
    "from mne.io import Raw\n",
    "from mne import read_events\n",
    "import wonambi\n",
    "import h5py\n",
    "import csv\n",
    "import pandas as pd\n",
    "from collections import Counter"
   ]
  },
  {
   "cell_type": "code",
   "execution_count": 2,
   "metadata": {},
   "outputs": [],
   "source": [
    "# preliminaires\n",
    "datapath = r'C:\\Users\\siann\\Data\\spindle_ppTMS\\EEG'\n",
    "subjects = 'sub-02'\n",
    "session = ['ses-exp_01', 'ses-exp_02', 'ses-exp_03']\n",
    "condition_peak = 'S155'\n",
    "condition_trough = 'S156'\n",
    "condition_rising = 'S157'\n",
    "condition_falling = 'S158'\n",
    "condition_sp_free = 'S159'\n",
    "sf = 5000"
   ]
  },
  {
   "cell_type": "code",
   "execution_count": 3,
   "metadata": {},
   "outputs": [
    {
     "name": "stdout",
     "output_type": "stream",
     "text": [
      "Extracting parameters from C:\\Users\\siann\\Data\\spindle_ppTMS\\EEG/sub-02/ses-exp_01/spindle-ppTMS_sub-02_ses-exp_01.vhdr...\n"
     ]
    },
    {
     "name": "stdout",
     "output_type": "stream",
     "text": [
      "Setting channel info structure...\n",
      "Reading 0 ... 32385722  =      0.000 ...  6477.144 secs...\n",
      "EEG channel type selected for re-referencing\n",
      "Applying a custom ('EEG',) reference.\n",
      "Extracting parameters from C:\\Users\\siann\\Data\\spindle_ppTMS\\EEG/sub-02/ses-exp_02/spindle-ppTMS_sub-02_ses-exp_02.vhdr...\n",
      "Setting channel info structure...\n",
      "Reading 0 ... 14991023  =      0.000 ...  2998.205 secs...\n",
      "EEG channel type selected for re-referencing\n",
      "Applying a custom ('EEG',) reference.\n",
      "Extracting parameters from C:\\Users\\siann\\Data\\spindle_ppTMS\\EEG/sub-02/ses-exp_03/spindle-ppTMS_sub-02_ses-exp_03.vhdr...\n",
      "Setting channel info structure...\n",
      "Reading 0 ... 4927619  =      0.000 ...   985.524 secs...\n",
      "EEG channel type selected for re-referencing\n",
      "Applying a custom ('EEG',) reference.\n",
      "Filtering raw data in 3 contiguous segments\n",
      "Setting up band-pass filter from 0.1 - 40 Hz\n",
      "\n",
      "FIR filter parameters\n",
      "---------------------\n",
      "Designing a one-pass, zero-phase, non-causal bandpass filter:\n",
      "- Windowed time-domain design (firwin) method\n",
      "- Hamming window with 0.0194 passband ripple and 53 dB stopband attenuation\n",
      "- Lower passband edge: 0.10\n",
      "- Lower transition bandwidth: 0.10 Hz (-6 dB cutoff frequency: 0.05 Hz)\n",
      "- Upper passband edge: 40.00 Hz\n",
      "- Upper transition bandwidth: 10.00 Hz (-6 dB cutoff frequency: 45.00 Hz)\n",
      "- Filter length: 3301 samples (33.010 s)\n",
      "\n"
     ]
    },
    {
     "name": "stderr",
     "output_type": "stream",
     "text": [
      "[Parallel(n_jobs=1)]: Done  17 tasks      | elapsed:    0.3s\n"
     ]
    },
    {
     "name": "stdout",
     "output_type": "stream",
     "text": [
      "(70, 1046086)\n"
     ]
    }
   ],
   "source": [
    "\n",
    "# append thress different recordings from the same night\n",
    "data_raw_list = []\n",
    "\n",
    "for i in range(len(session)):\n",
    "    data_raw_i = mne.io.read_raw_brainvision(datapath + '/' + subjects + '/' + session[i] + '/' + 'spindle-ppTMS_' + subjects + '_' + session[i] + '.vhdr', preload=True)\n",
    "    data_raw_i.resample(100)\n",
    "    data_raw_i.set_eeg_reference(ref_channels=['TP9', 'TP10']) # average mastoid reference\n",
    "    data_raw_list.append(data_raw_i)\n",
    "\n",
    "data_raw_all = mne.concatenate_raws(data_raw_list)\n",
    "data_raw_all.filter(0.1, 40) # bp filter\n",
    "data = data_raw_all.get_data() # Retrieve the data as a numpy array\n",
    "\n",
    "# Check the shape of the data\n",
    "print(np.shape(data))"
   ]
  },
  {
   "cell_type": "code",
   "execution_count": 5,
   "metadata": {},
   "outputs": [
    {
     "name": "stdout",
     "output_type": "stream",
     "text": [
      "NOTE: pick_channels() is a legacy function. New code should use inst.pick(...).\n"
     ]
    },
    {
     "name": "stderr",
     "output_type": "stream",
     "text": [
      "c:\\Users\\siann\\AppData\\Local\\Programs\\Python\\Python39\\lib\\site-packages\\sklearn\\base.py:376: InconsistentVersionWarning: Trying to unpickle estimator LabelEncoder from version 0.24.2 when using version 1.4.1.post1. This might lead to breaking code or invalid results. Use at your own risk. For more info please refer to:\n",
      "https://scikit-learn.org/stable/model_persistence.html#security-maintainability-limitations\n",
      "  warnings.warn(\n",
      "c:\\Users\\siann\\AppData\\Local\\Programs\\Python\\Python39\\lib\\site-packages\\yasa\\hypno.py:483: FutureWarning: Downcasting behavior in `replace` is deprecated and will be removed in a future version. To retain the old behavior, explicitly call `result.infer_objects(copy=False)`. To opt-in to the future behavior, set `pd.set_option('future.no_silent_downcasting', True)`\n",
      "  return self.hypno.replace(self.mapping).astype(np.int16)\n",
      "c:\\Users\\siann\\AppData\\Local\\Programs\\Python\\Python39\\lib\\site-packages\\yasa\\hypno.py:483: FutureWarning: The behavior of Series.replace (and DataFrame.replace) with CategoricalDtype is deprecated. In a future version, replace will only be used for cases that preserve the categories. To change the categories, use ser.cat.rename_categories instead.\n",
      "  return self.hypno.replace(self.mapping).astype(np.int16)\n"
     ]
    },
    {
     "data": {
      "text/plain": [
       "{'TIB': 174.0,\n",
       " 'SPT': 167.0,\n",
       " 'WASO': 83.0,\n",
       " 'TST': 84.0,\n",
       " 'SE': 48.2759,\n",
       " 'SME': 50.2994,\n",
       " 'SFI': 6.0714,\n",
       " 'SOL': 7.0,\n",
       " 'SOL_5min': 8.0,\n",
       " 'Lat_REM': 75.5,\n",
       " 'WAKE': 90.0,\n",
       " 'N1': 1.5,\n",
       " 'N2': 48.0,\n",
       " 'N3': 20.5,\n",
       " 'REM': 14.0,\n",
       " '%N1': 1.7857,\n",
       " '%N2': 57.1429,\n",
       " '%N3': 24.4048,\n",
       " '%REM': 16.6667}"
      ]
     },
     "execution_count": 5,
     "metadata": {},
     "output_type": "execute_result"
    }
   ],
   "source": [
    "# yasa sleep stageing\n",
    "sleep_stages = yasa.SleepStaging(data_raw_all, eeg_name = 'C4', eog_name=\"VEOG\", emg_name=\"EMG\") \n",
    "values = sleep_stages.predict() # predict the sleep stages\n",
    "from yasa import Hypnogram\n",
    "hyp = Hypnogram(values, n_stages=5) # create yasa Hypnogram object\n",
    "hyp.sleep_statistics() # get sleep statistics"
   ]
  },
  {
   "cell_type": "code",
   "execution_count": 6,
   "metadata": {},
   "outputs": [
    {
     "name": "stderr",
     "output_type": "stream",
     "text": [
      "c:\\Users\\siann\\AppData\\Local\\Programs\\Python\\Python39\\lib\\site-packages\\yasa\\hypno.py:483: FutureWarning: Downcasting behavior in `replace` is deprecated and will be removed in a future version. To retain the old behavior, explicitly call `result.infer_objects(copy=False)`. To opt-in to the future behavior, set `pd.set_option('future.no_silent_downcasting', True)`\n",
      "  return self.hypno.replace(self.mapping).astype(np.int16)\n",
      "c:\\Users\\siann\\AppData\\Local\\Programs\\Python\\Python39\\lib\\site-packages\\yasa\\hypno.py:483: FutureWarning: The behavior of Series.replace (and DataFrame.replace) with CategoricalDtype is deprecated. In a future version, replace will only be used for cases that preserve the categories. To change the categories, use ser.cat.rename_categories instead.\n",
      "  return self.hypno.replace(self.mapping).astype(np.int16)\n"
     ]
    },
    {
     "data": {
      "text/plain": [
       "<Axes: xlabel='Time [hrs]', ylabel='Stage'>"
      ]
     },
     "execution_count": 6,
     "metadata": {},
     "output_type": "execute_result"
    },
    {
     "data": {
      "image/png": "[encoded data removed]",
      "text/plain": [
       "<Figure size 640x480 with 1 Axes>"
      ]
     },
     "metadata": {},
     "output_type": "display_data"
    }
   ],
   "source": [
    "hyp.plot_hypnogram()"
   ]
  },
  {
   "cell_type": "code",
   "execution_count": 7,
   "metadata": {},
   "outputs": [
    {
     "name": "stderr",
     "output_type": "stream",
     "text": [
      "c:\\Users\\siann\\AppData\\Local\\Programs\\Python\\Python39\\lib\\site-packages\\yasa\\hypno.py:483: FutureWarning: Downcasting behavior in `replace` is deprecated and will be removed in a future version. To retain the old behavior, explicitly call `result.infer_objects(copy=False)`. To opt-in to the future behavior, set `pd.set_option('future.no_silent_downcasting', True)`\n",
      "  return self.hypno.replace(self.mapping).astype(np.int16)\n",
      "c:\\Users\\siann\\AppData\\Local\\Programs\\Python\\Python39\\lib\\site-packages\\yasa\\hypno.py:483: FutureWarning: The behavior of Series.replace (and DataFrame.replace) with CategoricalDtype is deprecated. In a future version, replace will only be used for cases that preserve the categories. To change the categories, use ser.cat.rename_categories instead.\n",
      "  return self.hypno.replace(self.mapping).astype(np.int16)\n",
      "03-Apr-24 12:35:50 | WARNING | Hypnogram is SHORTER than data by 20.86 seconds. Padding hypnogram with last value to match data.size.\n"
     ]
    },
    {
     "name": "stdout",
     "output_type": "stream",
     "text": [
      "        Start      Peak       End  Duration  Amplitude        RMS  AbsPower  \\\n",
      "0      494.04    494.77    495.06      1.02  48.077588   9.653255  1.853741   \n",
      "1      505.53    506.59    506.98      1.45  78.355815  15.244214  2.120461   \n",
      "2      521.52    521.78    522.07      0.55  56.005581  13.478839  2.052828   \n",
      "3      565.20    565.72    566.02      0.82  53.113523  12.360649  2.244682   \n",
      "4      571.53    571.79    572.50      0.97  56.216210  13.104689  2.291850   \n",
      "..        ...       ...       ...       ...        ...        ...       ...   \n",
      "143   9287.20   9287.56   9287.90      0.70  69.736469  16.355941  2.498262   \n",
      "144   9298.21   9298.67   9298.88      0.67  42.314287  10.792671  2.249739   \n",
      "145  10143.75  10144.20  10144.64      0.89  57.194914  12.578930  1.980666   \n",
      "146  10441.09  10441.29  10441.87      0.78  56.664332  13.051874  2.301885   \n",
      "147  10456.41  10456.64  10456.92      0.51  35.750031   8.419190  2.050149   \n",
      "\n",
      "     RelPower  Frequency  Oscillations  Symmetry  Stage Channel  IdxChannel  \n",
      "0    0.383655  13.197157          14.0  0.708738      2      C3           0  \n",
      "1    0.237451  12.735025          16.0  0.726027      2      C3           0  \n",
      "2    0.228727  12.853541           7.0  0.464286      2      C3           0  \n",
      "3    0.474340  12.340638          10.0  0.626506      2      C3           0  \n",
      "4    0.441634  12.609386          11.0  0.265306      2      C3           0  \n",
      "..        ...        ...           ...       ...    ...     ...         ...  \n",
      "143  0.382045  14.183369           9.0  0.507042      2      C4           1  \n",
      "144  0.431781  14.016158           8.0  0.676471      2      C4           1  \n",
      "145  0.283508  12.691836          11.0  0.500000      2      C4           1  \n",
      "146  0.512003  14.100947          11.0  0.253165      2      C4           1  \n",
      "147  0.355625  13.793045           7.0  0.442308      2      C4           1  \n",
      "\n",
      "[148 rows x 14 columns]\n"
     ]
    }
   ],
   "source": [
    "# detect spindles \n",
    "\n",
    "hyp_up = hyp.upsample_to_data(sf = 1/30, data = data_raw_all)\n",
    "data_C3_C4 = data_raw_all.get_data(['C3', 'C4'], units=\"uV\")\n",
    "spindles_c3_c4 = yasa.spindles_detect(data_C3_C4, include=(2,3), ch_names = ('C3', 'C4'), hypno=hyp_up, sf = 100)\n",
    "spindles_c3_c4 = spindles_c3_c4.summary()\n",
    "# when you run it on all the channels, do spindles.summary(grp_chan=True, grp_stage=True, aggfunc='mean')\n",
    "print(spindles_c3_c4)"
   ]
  },
  {
   "cell_type": "code",
   "execution_count": 9,
   "metadata": {},
   "outputs": [
    {
     "name": "stdout",
     "output_type": "stream",
     "text": [
      "RMS for sub-02: 13.000164266411213\n",
      "SpF for sub-02: 13.195800663465786\n"
     ]
    }
   ],
   "source": [
    "mean_RMS = statistics.mean(spindles_c3_c4.RMS)\n",
    "print('RMS for sub-02:', mean_RMS)\n",
    "mean_SpF = statistics.mean(spindles_c3_c4.Frequency)\n",
    "print('SpF for sub-02:', mean_SpF)"
   ]
  },
  {
   "cell_type": "code",
   "execution_count": 10,
   "metadata": {},
   "outputs": [
    {
     "name": "stdout",
     "output_type": "stream",
     "text": [
      "[4546, 4590, 4762, 4806, 4973, 5057, 5088, 5108, 5221, 5250, 5328, 5427, 5460, 5476, 5493, 5564, 5641, 5683, 5694, 5718, 5767, 5831, 5889, 5903, 5930, 5983, 6080, 6090, 6130, 6163, 6243, 6258, 6293, 6354, 6371, 6496, 6531, 6541, 6566, 6631, 6701, 6725, 6764, 6773, 6917, 6926, 6941, 6950, 6975, 7011, 7049, 7094, 7162, 7238, 7298, 7381, 7401, 7437, 7515, 7528, 7589, 7631, 7707, 7718, 7748, 7795, 7859, 7895, 7943, 7953, 7981, 16008, 16124, 16219, 16492, 16642, 16715, 16742, 16800, 16810, 16903, 16930]\n"
     ]
    }
   ],
   "source": [
    "# store stimulation times in a list\n",
    "stimulation_times_list = [] \n",
    "with open(r\"C:\\Users\\siann\\Data\\spindle_ppTMS\\EEG\\sub-02\\data_sub-02_all_ses_trialmatrix.csv\", 'r') as f:\n",
    "    reader = csv.reader(f)\n",
    "    for row in reader:\n",
    "        first_value = int(row[0])\n",
    "        stimulation_time = (first_value + 1500) // sf  # get stimulation time in seconds \n",
    "        stimulation_times_list.append(stimulation_time)  \n",
    "\n",
    "print(stimulation_times_list)"
   ]
  },
  {
   "cell_type": "code",
   "execution_count": 11,
   "metadata": {},
   "outputs": [
    {
     "name": "stdout",
     "output_type": "stream",
     "text": [
      "Counter({False: 79, True: 3})\n",
      "    Stimulation Times (sec)  co_occur  co_occur_slowwave_segment_index  \\\n",
      "0                      4546     False                              NaN   \n",
      "1                      4590     False                              NaN   \n",
      "2                      4762     False                              NaN   \n",
      "3                      4806     False                              NaN   \n",
      "4                      4973     False                              NaN   \n",
      "..                      ...       ...                              ...   \n",
      "77                    16742     False                              NaN   \n",
      "78                    16800     False                              NaN   \n",
      "79                    16810     False                              NaN   \n",
      "80                    16903     False                              NaN   \n",
      "81                    16930     False                              NaN   \n",
      "\n",
      "    co_occur_slowwave_trough_time  \n",
      "0                             NaN  \n",
      "1                             NaN  \n",
      "2                             NaN  \n",
      "3                             NaN  \n",
      "4                             NaN  \n",
      "..                            ...  \n",
      "77                            NaN  \n",
      "78                            NaN  \n",
      "79                            NaN  \n",
      "80                            NaN  \n",
      "81                            NaN  \n",
      "\n",
      "[82 rows x 4 columns]\n"
     ]
    }
   ],
   "source": [
    "# count how many times stimulation occured in an interval within +- 0.5 sec relative to the detected spindle peak\n",
    "\n",
    "stimulation_times_df = pd.DataFrame({'Stimulation Times (sec)':stimulation_times_list})\n",
    "stimulation_times_df['co_occur'] = False\n",
    "stimulation_times_df['co_occur_slowwave_segment_index'] = np.NaN\n",
    "stimulation_times_df['co_occur_slowwave_trough_time'] = np.NaN\n",
    "for index, peak_time in spindles_c3_c4['Peak'].items():\n",
    "    before_peak = peak_time - 0.5\n",
    "    after_peak = peak_time + 0.5\n",
    "    for i, row  in stimulation_times_df.iterrows():\n",
    "        if (before_peak <= row['Stimulation Times (sec)'] <= after_peak): \n",
    "            stimulation_times_df.at[i, 'co_occur'] = True\n",
    "            stimulation_times_df.at[i, 'co_occur_slowwave_segment_index'] = index\n",
    "            stimulation_times_df.at[i, 'co_occur_slowwave_trough_time'] = peak_time\n",
    "number_co_occurences = Counter(stimulation_times_df['co_occur'])\n",
    "print(number_co_occurences)\n",
    "print(stimulation_times_df)"
   ]
  },
  {
   "cell_type": "code",
   "execution_count": 22,
   "metadata": {},
   "outputs": [
    {
     "data": {
      "image/png": "[encoded data removed]",
      "text/plain": [
       "<Figure size 640x480 with 1 Axes>"
      ]
     },
     "metadata": {},
     "output_type": "display_data"
    }
   ],
   "source": [
    "# plot spindle peaks and stimulation times \n",
    "\n",
    "plt.eventplot(stimulation_times_list, lineoffsets = 0.5, colors='b')\n",
    "plt.eventplot(spindles_c3_c4['Peak'], lineoffsets = 0.5, colors ='r')\n",
    "plt.eventplot(stimulation_times_df['Stimulation Times (sec)'][stimulation_times_df['co_occur'] == True], lineoffsets = 0.5, colors ='k')\n",
    "plt.xlabel(\"event times (secs after recording start)\") \n",
    "plt.xlim(3000, 8500)\n",
    "plt.legend(['stimulation times', 'spindle peak times', 'co-occurence'])\n",
    "plt.show()"
   ]
  }
 ],
 "metadata": {
  "kernelspec": {
   "display_name": "Python 3",
   "language": "python",
   "name": "python3"
  },
  "language_info": {
   "codemirror_mode": {
    "name": "ipython",
    "version": 3
   },
   "file_extension": ".py",
   "mimetype": "text/x-python",
   "name": "python",
   "nbconvert_exporter": "python",
   "pygments_lexer": "ipython3",
   "version": "3.9.0"
  }
 },
 "nbformat": 4,
 "nbformat_minor": 2
}
